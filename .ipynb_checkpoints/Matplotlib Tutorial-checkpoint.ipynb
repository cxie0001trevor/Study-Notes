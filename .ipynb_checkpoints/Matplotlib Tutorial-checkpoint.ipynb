{
 "cells": [
  {
   "cell_type": "markdown",
   "metadata": {},
   "source": [
    "### Matplotlib keywords\n",
    "`data` : DataFrame  \n",
    "`x` : label or position, default None  \n",
    "`y` : label or position, default None  \n",
    "`kind` : str  \n",
    "> **‘line’** : line plot (default)  \n",
    "**‘bar’** : vertical bar plot  \n",
    "**‘barh’** : horizontal bar plot  \n",
    "**‘hist’** : histogram  \n",
    "**‘box’** : boxplot  \n",
    "**‘kde’** : Kernel Density Estimation plot  \n",
    "**‘density’** : same as ‘kde’  \n",
    "**‘area’** : area plot  \n",
    "**‘pie’** : pie plot  \n",
    "**‘scatter’** : scatter plot  \n",
    "**‘hexbin’** : hexbin plot  \n",
    "\n",
    "`ax` : matplotlib axes object, default None   \n",
    "`subplots` : boolean, default False, make separate subplots for each column  \n",
    "`sharex` : boolean, default True if ax is None else False, set some x axis labels to invisible  \n",
    "`sharey` : boolean, default False, set some y axis labels to invisible  \n",
    "`layout` : tuple (optional), (rows, columns) for the layout of subplots\n",
    "`figsize` : a tuple (width, height) in inches\n",
    "`use_index` : boolean, default True, Use index as ticks for x axis  \n",
    "`title` : string or list  \n",
    "`grid` : boolean, default None (matlab style default)  \n",
    "`legend` : False/True/’reverse’  \n",
    "`style` : list or dict, line style per column  \n",
    "`logx` : boolean, default False, Use log scaling on x axis  \n",
    "`logy` : boolean, default False, Use log scaling on y axis  \n",
    "`loglog` : boolean, default False, Use log scaling on both x and y axes  \n",
    "`xticks` : sequence, Values to use for the xticks  \n",
    "`yticks` : sequence, Values to use for the yticks  \n",
    "`xlim` : 2-tuple/list  \n",
    "`ylim` : 2-tuple/list  \n",
    "`rot` : int, default None, Rotation for ticks (xticks for vertical, yticks for horizontal plots)  \n",
    "`fontsize` : int, default None, for xticks and yticks  \n",
    "`colormap` : str or matplotlib colormap object, default None, Colormap to select colors from. If string, load colormap with that name from matplotlib.  \n",
    "`colorbar` : boolean, optional, If True, plot colorbar (only relevant for ‘scatter’ and ‘hexbin’ plots)  \n",
    "`position` : float, Specify relative alignments for bar plot layout. From 0 (left/bottom-end) to 1 (right/top-end). Default is 0.5 (center)  \n",
    "`table` : boolean, Series or DataFrame, default False  \n",
    "`yerr` : DataFrame, Series, array-like, dict and str, See Plotting with Error Bars for detail.  \n",
    "`xerr` : same types as `yerr`.  \n",
    "`stacked` : boolean, default False in line and bar plots, and True in area plot. If True, create stacked plot.  \n",
    "`sort_columns` : boolean, default False, Sort column names to determine plot ordering  \n",
    "`secondary_y` : boolean or sequence, default False\n",
    "`mark_right` : boolean, default True\n",
    "`kwds` : keywords, ptions to pass to matplotlib plotting method"
   ]
  },
  {
   "cell_type": "code",
   "execution_count": null,
   "metadata": {},
   "outputs": [],
   "source": []
  }
 ],
 "metadata": {
  "kernelspec": {
   "display_name": "Python 3",
   "language": "python",
   "name": "python3"
  },
  "language_info": {
   "codemirror_mode": {
    "name": "ipython",
    "version": 3
   },
   "file_extension": ".py",
   "mimetype": "text/x-python",
   "name": "python",
   "nbconvert_exporter": "python",
   "pygments_lexer": "ipython3",
   "version": "3.6.4"
  }
 },
 "nbformat": 4,
 "nbformat_minor": 2
}
