{
 "cells": [
  {
   "cell_type": "markdown",
   "metadata": {},
   "source": [
    "```shell\n",
    "Create: 3 May 2018\n",
    "Update:\n",
    "```\n",
    "Intro to Magic function\n",
    "---\n",
    "[Source](http://ipython.readthedocs.io/en/stable/interactive/tutorial.html#magics-explained)"
   ]
  },
  {
   "cell_type": "markdown",
   "metadata": {},
   "source": [
    "Here is an example of using `%timeit`"
   ]
  },
  {
   "cell_type": "code",
   "execution_count": 14,
   "metadata": {},
   "outputs": [],
   "source": [
    "# A dummy sum\n",
    "def foo(start, end, step):\n",
    "    aList = [x for x in range(start, end+1, step)]\n",
    "    result = 0\n",
    "    for each in aList:\n",
    "        result = result + each\n",
    "    return result\n",
    "\n",
    "# smarter one\n",
    "def smart(start, end, step):\n",
    "    n = (end-start)//step\n",
    "    end = start + (n-1)*step\n",
    "    result = 0.5*n*(start + end)\n",
    "    return result"
   ]
  },
  {
   "cell_type": "code",
   "execution_count": 19,
   "metadata": {},
   "outputs": [
    {
     "name": "stdout",
     "output_type": "stream",
     "text": [
      "64 µs ± 963 ns per loop (mean ± std. dev. of 7 runs, 10000 loops each)\n"
     ]
    }
   ],
   "source": [
    "%timeit foo(1,1000,1)"
   ]
  },
  {
   "cell_type": "code",
   "execution_count": 20,
   "metadata": {},
   "outputs": [
    {
     "name": "stdout",
     "output_type": "stream",
     "text": [
      "267 ns ± 6.65 ns per loop (mean ± std. dev. of 7 runs, 1000000 loops each)\n"
     ]
    }
   ],
   "source": [
    "%timeit smart(1,1000,1)"
   ]
  },
  {
   "cell_type": "markdown",
   "metadata": {},
   "source": [
    "### Built-in magics include:\n",
    "\n",
    "* Functions that work with code: `%run`, `%edit`, `%save`, `%macro`, `%recall`, etc.\n",
    "* Functions which affect the shell: `%colors`, `%xmode`, `%autoindent`, `%automagic`, etc.\n",
    "* Other functions such as `%reset`, `%timeit`, `%%writefile`, `%load`, or `%paste`."
   ]
  },
  {
   "cell_type": "code",
   "execution_count": null,
   "metadata": {},
   "outputs": [],
   "source": []
  }
 ],
 "metadata": {
  "kernelspec": {
   "display_name": "Python 3",
   "language": "python",
   "name": "python3"
  },
  "language_info": {
   "codemirror_mode": {
    "name": "ipython",
    "version": 3
   },
   "file_extension": ".py",
   "mimetype": "text/x-python",
   "name": "python",
   "nbconvert_exporter": "python",
   "pygments_lexer": "ipython3",
   "version": "3.6.4"
  }
 },
 "nbformat": 4,
 "nbformat_minor": 2
}
