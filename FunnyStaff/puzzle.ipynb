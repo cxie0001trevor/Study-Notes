{
 "cells": [
  {
   "cell_type": "markdown",
   "metadata": {},
   "source": [
    "### Question:\n",
    "> Assume there are 30 students in the room, standing in a queue which is a circle.  \n",
    "> Each will call out a number one by one, following a rule like 1, 2, 3 and then  \n",
    "> repeat. However, the one who call out 3 need to stand out of the queue and no more  \n",
    "> participate in this call out game. A notetaker stand beside them and calculate the  \n",
    "> the total number of the call-outs until no one stand in the queue.\n",
    "\n",
    "Implement a function to which will print out the total number and return the total number"
   ]
  },
  {
   "cell_type": "code",
   "execution_count": 18,
   "metadata": {
    "scrolled": false
   },
   "outputs": [
    {
     "name": "stdout",
     "output_type": "stream",
     "text": [
      "87\n"
     ]
    },
    {
     "data": {
      "text/plain": [
       "[['3', '6', '9', '12', '15', '18', '21', '24', '27', '30'],\n",
       " ['4', '8', '13', '17', '22', '26'],\n",
       " ['1', '7', '14', '20', '28'],\n",
       " ['5', '16', '25'],\n",
       " ['10', '23'],\n",
       " ['11'],\n",
       " ['2'],\n",
       " ['19']]"
      ]
     },
     "execution_count": 18,
     "metadata": {},
     "output_type": "execute_result"
    }
   ],
   "source": [
    "data = [str(x) for x in range(0,31,1)]\n",
    "def call_num(alist):\n",
    "    data = list(alist)\n",
    "    final = []\n",
    "    result = []\n",
    "    pointer = 1\n",
    "    total = 0\n",
    "    finish = False\n",
    "    callout = [1,2,3]\n",
    "    l = len(data)-1\n",
    "    while not finish:\n",
    "        if len(result) == len(alist) or l == 1:\n",
    "            finish = True\n",
    "        elif pointer > l:\n",
    "            for i in data:\n",
    "                if i in result:\n",
    "                    data.remove(i)\n",
    "            # Reset Pointer, New begining\n",
    "            pointer = pointer - l\n",
    "            l=len(data)-1\n",
    "            final.append(result)\n",
    "            result = []\n",
    "        elif data[pointer] not in result:\n",
    "            #print('%s says %d'% (data[pointer],callout[total%3]))\n",
    "            if callout[total%3] ==3:\n",
    "                #print('%s OUT'%data[pointer])\n",
    "                result.append(data[pointer])\n",
    "            total +=1\n",
    "            pointer +=1\n",
    "    print(total-1)\n",
    "    return final\n",
    "call_num(data)"
   ]
  },
  {
   "cell_type": "code",
   "execution_count": null,
   "metadata": {
    "collapsed": true
   },
   "outputs": [],
   "source": []
  }
 ],
 "metadata": {
  "kernelspec": {
   "display_name": "Python 3",
   "language": "python",
   "name": "python3"
  },
  "language_info": {
   "codemirror_mode": {
    "name": "ipython",
    "version": 3
   },
   "file_extension": ".py",
   "mimetype": "text/x-python",
   "name": "python",
   "nbconvert_exporter": "python",
   "pygments_lexer": "ipython3",
   "version": "3.6.3"
  }
 },
 "nbformat": 4,
 "nbformat_minor": 2
}
