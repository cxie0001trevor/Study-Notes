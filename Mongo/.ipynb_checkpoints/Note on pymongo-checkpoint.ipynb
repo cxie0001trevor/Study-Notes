{
 "cells": [
  {
   "cell_type": "markdown",
   "metadata": {},
   "source": [
    "Date: 29 Apr 2018\n",
    "\n",
    "Note on `pymongo`\n",
    "---\n",
    "## 0. Introduction\n",
    "---"
   ]
  },
  {
   "cell_type": "markdown",
   "metadata": {},
   "source": [
    "### 0.1 Import library"
   ]
  },
  {
   "cell_type": "code",
   "execution_count": 9,
   "metadata": {},
   "outputs": [],
   "source": [
    "import pymongo\n",
    "from pymongo import MongoClient\n",
    "from pprint import pprint"
   ]
  },
  {
   "cell_type": "markdown",
   "metadata": {},
   "source": [
    "### 0.2 Make connection to the server"
   ]
  },
  {
   "cell_type": "code",
   "execution_count": 3,
   "metadata": {},
   "outputs": [],
   "source": [
    "# Explicitly specify host(str) and port(int).\n",
    "#Client = MongoClient('localhost',27017)\n",
    "\n",
    "# Using URI to specifiy host and port\n",
    "#Client = MongoClient('mongodb://localhost:27017/')\n",
    "\n",
    "# Using default host(localhost) and post(27017).\n",
    "client = MongoClient()"
   ]
  },
  {
   "cell_type": "markdown",
   "metadata": {},
   "source": [
    "### 0.3 Basic structure"
   ]
  },
  {
   "cell_type": "code",
   "execution_count": 4,
   "metadata": {},
   "outputs": [
    {
     "data": {
      "text/plain": [
       "pymongo.database.Database"
      ]
     },
     "execution_count": 4,
     "metadata": {},
     "output_type": "execute_result"
    }
   ],
   "source": [
    "db = client.fit5148_db\n",
    "type(db)"
   ]
  },
  {
   "cell_type": "code",
   "execution_count": 5,
   "metadata": {},
   "outputs": [
    {
     "data": {
      "text/plain": [
       "pymongo.collection.Collection"
      ]
     },
     "execution_count": 5,
     "metadata": {},
     "output_type": "execute_result"
    }
   ],
   "source": [
    "type(db.FIT)"
   ]
  },
  {
   "cell_type": "code",
   "execution_count": 6,
   "metadata": {
    "scrolled": true
   },
   "outputs": [
    {
     "data": {
      "text/plain": [
       "pymongo.cursor.Cursor"
      ]
     },
     "execution_count": 6,
     "metadata": {},
     "output_type": "execute_result"
    }
   ],
   "source": [
    "type(db.FIT.find({}))"
   ]
  },
  {
   "cell_type": "code",
   "execution_count": 7,
   "metadata": {},
   "outputs": [
    {
     "data": {
      "text/plain": [
       "dict"
      ]
     },
     "execution_count": 7,
     "metadata": {},
     "output_type": "execute_result"
    }
   ],
   "source": [
    "type(db.FIT.find()[0])"
   ]
  },
  {
   "cell_type": "markdown",
   "metadata": {},
   "source": [
    "After querying the database, the query results will be returned in a `Cursor` type, data within can be retrieved by **iterator**:"
   ]
  },
  {
   "cell_type": "code",
   "execution_count": 10,
   "metadata": {
    "scrolled": true
   },
   "outputs": [
    {
     "name": "stdout",
     "output_type": "stream",
     "text": [
      "{'_id': 126,\n",
      " 'course': 'MBIS',\n",
      " 'name': {'first': 'Peter', 'last': 'Chen'},\n",
      " 'result': [{'mark': 99,\n",
      "             'semester': 1,\n",
      "             'unit_code': 'FIT9132',\n",
      "             'unit_name': 'Database',\n",
      "             'year': 2017}]}\n",
      "{'_id': 124,\n",
      " 'course': 'MBIS',\n",
      " 'name': {'first': 'Albert', 'last': 'Einstein'},\n",
      " 'result': [{'mark': 90,\n",
      "             'semester': 1,\n",
      "             'unit_code': 'FIT9131',\n",
      "             'unit_name': 'Programming',\n",
      "             'year': 2017},\n",
      "            {'mark': 90,\n",
      "             'semester': 1,\n",
      "             'unit_code': 'FIT9132',\n",
      "             'unit_name': 'Database',\n",
      "             'year': 2017}]}\n",
      "{'_id': 127,\n",
      " 'course': 'MIT',\n",
      " 'name': {'first': 'Charles', 'last': 'Babbage'},\n",
      " 'result': [{'mark': 95,\n",
      "             'semester': 1,\n",
      "             'unit_code': 'FIT9132',\n",
      "             'unit_name': 'Database',\n",
      "             'year': 2017},\n",
      "            {'semester': 2,\n",
      "             'unit_code': 'FIT9131',\n",
      "             'unit_name': 'Programming',\n",
      "             'year': 2017}]}\n",
      "{'_id': 123,\n",
      " 'course': 'MIT',\n",
      " 'name': {'first': 'Marie', 'last': 'Currie'},\n",
      " 'result': [{'mark': 85,\n",
      "             'semester': 1,\n",
      "             'unit_code': 'FIT9132',\n",
      "             'unit_name': 'Database',\n",
      "             'year': 2017},\n",
      "            {'mark': 99,\n",
      "             'semester': 2,\n",
      "             'unit_code': 'FIT9131',\n",
      "             'unit_name': 'Programming',\n",
      "             'year': 2017}]}\n",
      "{'_id': 125,\n",
      " 'course': 'MBIS',\n",
      " 'name': {'first': 'Gordon', 'last': 'Bell'},\n",
      " 'result': [{'semester': 2,\n",
      "             'unit_code': 'FIT9132',\n",
      "             'unit_name': 'Database',\n",
      "             'year': 2017}]}\n",
      "{'_id': 128,\n",
      " 'course': 'MBIS',\n",
      " 'name': {'first': 'Peter', 'last': 'Chen'},\n",
      " 'result': [{'mark': 99,\n",
      "             'semester': 1,\n",
      "             'unit_code': 'FIT9132',\n",
      "             'unit_name': 'Database',\n",
      "             'year': 2017}]}\n"
     ]
    }
   ],
   "source": [
    "for data in db.FIT.find():\n",
    "    pprint(data)"
   ]
  },
  {
   "cell_type": "markdown",
   "metadata": {},
   "source": [
    "Or, using **indexing** to retrieve data:"
   ]
  },
  {
   "cell_type": "code",
   "execution_count": 6,
   "metadata": {},
   "outputs": [
    {
     "name": "stdout",
     "output_type": "stream",
     "text": [
      "{'_id': 126,\n",
      " 'course': 'MBIS',\n",
      " 'name': {'first': 'Peter', 'last': 'Chen'},\n",
      " 'result': [{'mark': 99,\n",
      "             'semester': 1,\n",
      "             'unit_code': 'FIT9132',\n",
      "             'unit_name': 'Database',\n",
      "             'year': 2017}]}\n"
     ]
    }
   ],
   "source": [
    "pprint(db.FIT.find()[0])"
   ]
  },
  {
   "cell_type": "code",
   "execution_count": 11,
   "metadata": {},
   "outputs": [],
   "source": [
    "sample = db.sample"
   ]
  },
  {
   "cell_type": "markdown",
   "metadata": {},
   "source": [
    "## Insert\n",
    "1. Insert one document: `db.collection.insert_one()`\n",
    "2. Insert mutiple document: `db.collection.insert_many()`  \n",
    "**Note**: In Pymongo, documents are stored in dictionary type. Thus, only `dict` type objects are valid input when using `insert_one()`. On the other hand, a list of `dict` objects is allowed as input in `insert_many()`."
   ]
  },
  {
   "cell_type": "code",
   "execution_count": 13,
   "metadata": {},
   "outputs": [],
   "source": [
    "evals = [{\"results\":[{\"item\": \"content\",\"score\": 9},{\"item\": \"presentation\",\"score\": 6}]},\n",
    "        {\"results\":[{\"item\": \"content\",\"score\": 8},{\"item\": \"presentation\",\"score\": 8}]}]\n",
    "\n",
    "result = db.sample.insert_many(evals)"
   ]
  },
  {
   "cell_type": "markdown",
   "metadata": {},
   "source": [
    "After insert multiple documents, we can retrieve the `inserted_ids`"
   ]
  },
  {
   "cell_type": "code",
   "execution_count": 14,
   "metadata": {},
   "outputs": [
    {
     "data": {
      "text/plain": [
       "[ObjectId('5afa5a3659525d03002e53dc'), ObjectId('5afa5a3659525d03002e53dd')]"
      ]
     },
     "execution_count": 14,
     "metadata": {},
     "output_type": "execute_result"
    }
   ],
   "source": [
    "result.inserted_ids"
   ]
  },
  {
   "cell_type": "markdown",
   "metadata": {},
   "source": [
    "## Update"
   ]
  },
  {
   "cell_type": "markdown",
   "metadata": {},
   "source": [
    "`update_one` and `update_many()`  \n",
    "**Cannot update `_id` field**  \n",
    "`result.matched_count`: print out how many documents were updated  \n",
    "`replace_one()`"
   ]
  },
  {
   "cell_type": "markdown",
   "metadata": {},
   "source": [
    "## Delete"
   ]
  },
  {
   "cell_type": "markdown",
   "metadata": {},
   "source": [
    "`delete_one()` and `delete_many()`  \n",
    "**take one condition to match**  \n",
    "`result.deleted_count` to check whether document(s) have been deleted.  \n",
    "### Drop\n",
    "`collectionName.drop()`: To delete all documents from a collection  \n",
    "`collectionName.rename('newName')`: change the name of a collection  "
   ]
  },
  {
   "cell_type": "markdown",
   "metadata": {},
   "source": [
    "## Read"
   ]
  },
  {
   "cell_type": "markdown",
   "metadata": {},
   "source": [
    "* `find()`  \n",
    "* `find_one()`\n",
    "* `collectionName.count()` or `collectionName.find({criteria}).count()`\n",
    "\n",
    "### Range\n",
    "* `collectionname.find({\"field\":{\"$lte\" : 50 }})`  \n",
    "**More details of operators find mongo shell Note**"
   ]
  },
  {
   "cell_type": "markdown",
   "metadata": {},
   "source": [
    "### Multiple conditions\n",
    "* `collectionName.find({\"field_1\":condition1, \"field2\":{\"$operator\": condition_2})`"
   ]
  },
  {
   "cell_type": "markdown",
   "metadata": {},
   "source": [
    "### Logical Conjustion\n",
    "* `$or`\n",
    "* `$and`\n",
    "\n",
    "Example:  \n",
    "```\n",
    "collection.find(\n",
    "    {\"$or\":\n",
    "        [{\"field1\": condition1},\n",
    "         {\"field2\":{\n",
    "             \"$operator\": condition2\n",
    "             }\n",
    "         }\n",
    "        ]\n",
    "    }\n",
    ")\n",
    "```"
   ]
  },
  {
   "cell_type": "markdown",
   "metadata": {},
   "source": [
    "## Sort"
   ]
  },
  {
   "cell_type": "markdown",
   "metadata": {},
   "source": [
    "`pymongo.ASCENDING` and `pymongo.DESCENDING`\n",
    "\n",
    "Example:  \n",
    "* `collection,find({criteria}).sort(\"field_1\", pymongo.ASCENDING)`\n",
    "* `collection,find({criteria}).sort(\"field_1\", pymongo.DESCENDING)`\n",
    "* `collection,find({criteria}).sort([(option_1), (option_2)])`"
   ]
  },
  {
   "cell_type": "markdown",
   "metadata": {},
   "source": [
    "## Indexing"
   ]
  },
  {
   "cell_type": "markdown",
   "metadata": {},
   "source": [
    "Create a unique index on key, for example, `foo.something`:  \n",
    "* `collectionName.create_index([('foo.something', pymongo.ASCENDING)], unique=True)`\n",
    "\n",
    "**Note**: Now we have 2 indexes:\n",
    "1. index on `_id`\n",
    "2. index on `foo.something`"
   ]
  },
  {
   "cell_type": "code",
   "execution_count": 27,
   "metadata": {},
   "outputs": [
    {
     "data": {
      "text/plain": [
       "'results.score_-1'"
      ]
     },
     "execution_count": 27,
     "metadata": {},
     "output_type": "execute_result"
    }
   ],
   "source": [
    "c_sample = db.sample\n",
    "sample.create_index([('results.score', pymongo.ASCENDING)], unique=True)\n",
    "sample.create_index([('results.score', pymongo.DESCENDING)], unique=True)"
   ]
  },
  {
   "cell_type": "markdown",
   "metadata": {},
   "source": [
    "To check what field have indexes: \n",
    "1. `-1` means descending order index\n",
    "2. `1` means ascending oreder index"
   ]
  },
  {
   "cell_type": "code",
   "execution_count": 28,
   "metadata": {},
   "outputs": [
    {
     "data": {
      "text/plain": [
       "['_id_', 'results.score_-1', 'results.score_1']"
      ]
     },
     "execution_count": 28,
     "metadata": {},
     "output_type": "execute_result"
    }
   ],
   "source": [
    "sorted(list(sample.index_information()))"
   ]
  },
  {
   "cell_type": "markdown",
   "metadata": {},
   "source": [
    "## Aggregate"
   ]
  },
  {
   "cell_type": "markdown",
   "metadata": {},
   "source": [
    "### Count the number of record matched the criteria\n",
    "\n",
    "```\n",
    "collectionName.aggregate(\n",
    "    [\"$group\":{\n",
    "        \"_id\":\"$field\", \n",
    "        \"count\":{\"$sum\":1}\n",
    "        }]\n",
    "    )\n",
    "```"
   ]
  },
  {
   "cell_type": "markdown",
   "metadata": {},
   "source": [
    "### Calculation the average value of field\n",
    "\n",
    "```\n",
    "collectionName.aggregate(\n",
    "    [\"$group\":{\n",
    "        \"_id\":\"$field\", \n",
    "        \"Avg\":{\"$avg\":\"$field\"},\n",
    "        \"count\":{\"$sum\":1}\n",
    "        }]\n",
    "    )\n",
    "```"
   ]
  },
  {
   "cell_type": "markdown",
   "metadata": {},
   "source": [
    "## Join"
   ]
  },
  {
   "cell_type": "markdown",
   "metadata": {},
   "source": [
    "Example collections:"
   ]
  },
  {
   "cell_type": "code",
   "execution_count": 29,
   "metadata": {},
   "outputs": [],
   "source": [
    "users = db.users\n",
    "units = db.units"
   ]
  },
  {
   "cell_type": "markdown",
   "metadata": {},
   "source": [
    "Take a look at these collection:"
   ]
  },
  {
   "cell_type": "code",
   "execution_count": 33,
   "metadata": {
    "scrolled": true
   },
   "outputs": [
    {
     "name": "stdout",
     "output_type": "stream",
     "text": [
      "{'_id': ObjectId('5af1244ad87cca47ac32bb0a'),\n",
      " 'name': {'first': 'Marie', 'last': 'Currie'},\n",
      " 'sid': 123}\n"
     ]
    }
   ],
   "source": [
    "pprint(users.find()[0])"
   ]
  },
  {
   "cell_type": "code",
   "execution_count": 34,
   "metadata": {},
   "outputs": [
    {
     "name": "stdout",
     "output_type": "stream",
     "text": [
      "{'_id': ObjectId('5af124edd87cca47ac32bb58'),\n",
      " 'mark': 100,\n",
      " 'semester': 2,\n",
      " 'sid': 124,\n",
      " 'unit_code': 'FIT9132',\n",
      " 'unit_name': 'Database',\n",
      " 'year': [2017]}\n"
     ]
    }
   ],
   "source": [
    "pprint(units.find()[0])"
   ]
  },
  {
   "cell_type": "markdown",
   "metadata": {},
   "source": [
    "### Using `$lookup` with `aggregation()`"
   ]
  },
  {
   "cell_type": "markdown",
   "metadata": {},
   "source": [
    "**users** inner join with **units** on `sid`"
   ]
  },
  {
   "cell_type": "code",
   "execution_count": 49,
   "metadata": {},
   "outputs": [
    {
     "name": "stdout",
     "output_type": "stream",
     "text": [
      "{'_id': ObjectId('5af1244ad87cca47ac32bb0a'),\n",
      " 'completed_units': [{'_id': ObjectId('5af124edd87cca47ac32bb59'),\n",
      "                      'mark': 80,\n",
      "                      'semester': [1, 2],\n",
      "                      'sid': 123,\n",
      "                      'unit_code': 'FIT9131',\n",
      "                      'unit_name': 'Programming',\n",
      "                      'year': [2016]},\n",
      "                     {'_id': ObjectId('5af124edd87cca47ac32bb5a'),\n",
      "                      'mark': 100,\n",
      "                      'semester': 1,\n",
      "                      'sid': 123,\n",
      "                      'unit_code': 'FIT9132',\n",
      "                      'unit_name': 'Database',\n",
      "                      'year': [2017]}],\n",
      " 'name': {'first': 'Marie', 'last': 'Currie'},\n",
      " 'sid': 123}\n",
      "{'_id': ObjectId('5af1244ad87cca47ac32bb0b'),\n",
      " 'completed_units': [{'_id': ObjectId('5af124edd87cca47ac32bb58'),\n",
      "                      'mark': 100,\n",
      "                      'semester': 2,\n",
      "                      'sid': 124,\n",
      "                      'unit_code': 'FIT9132',\n",
      "                      'unit_name': 'Database',\n",
      "                      'year': [2017]}],\n",
      " 'name': {'first': 'Albert', 'last': 'Einstein'},\n",
      " 'sid': 124}\n"
     ]
    }
   ],
   "source": [
    "results1 = users.aggregate([{ \n",
    "    \"$lookup\":\n",
    "    { \"from\": \"units\", \n",
    "      \"localField\": \"sid\", \n",
    "      \"foreignField\" : \"sid\", \n",
    "      \"as\": \"completed_units\" }\n",
    "}])\n",
    "for document in results1:\n",
    "    pprint(document)"
   ]
  },
  {
   "cell_type": "code",
   "execution_count": 47,
   "metadata": {},
   "outputs": [
    {
     "name": "stdout",
     "output_type": "stream",
     "text": [
      "{'completed_units': [{'_id': ObjectId('5af1244ad87cca47ac32bb0b'),\n",
      "                      'name': {'first': 'Albert', 'last': 'Einstein'},\n",
      "                      'sid': 124}],\n",
      " 'sid': 124,\n",
      " 'year': [2017]}\n",
      "{'completed_units': [{'_id': ObjectId('5af1244ad87cca47ac32bb0a'),\n",
      "                      'name': {'first': 'Marie', 'last': 'Currie'},\n",
      "                      'sid': 123}],\n",
      " 'sid': 123,\n",
      " 'year': [2016]}\n",
      "{'completed_units': [{'_id': ObjectId('5af1244ad87cca47ac32bb0a'),\n",
      "                      'name': {'first': 'Marie', 'last': 'Currie'},\n",
      "                      'sid': 123}],\n",
      " 'sid': 123,\n",
      " 'year': [2017]}\n"
     ]
    }
   ],
   "source": [
    "results3 = units.aggregate([\n",
    "    {\"$unwind\": \"$sid\"},\n",
    "    {\n",
    "    \"$lookup\":\n",
    "    { \"from\": \"users\", \n",
    "      \"localField\": \"sid\", \n",
    "      \"foreignField\" : \"sid\", \n",
    "      \"as\": \"completed_units\" }},\n",
    "    {\"$project\":{\"_id\":0, \"sid\":1, \"year\":1, \"completed_units\":1}}\n",
    "])\n",
    "for document in results3:\n",
    "    pprint(document)"
   ]
  },
  {
   "cell_type": "markdown",
   "metadata": {},
   "source": [
    "<font color='red'>**`$unwind` operator should be always preceding to `$lookup`**</font>"
   ]
  },
  {
   "cell_type": "code",
   "execution_count": null,
   "metadata": {},
   "outputs": [],
   "source": []
  }
 ],
 "metadata": {
  "kernelspec": {
   "display_name": "Python 3",
   "language": "python",
   "name": "python3"
  },
  "language_info": {
   "codemirror_mode": {
    "name": "ipython",
    "version": 3
   },
   "file_extension": ".py",
   "mimetype": "text/x-python",
   "name": "python",
   "nbconvert_exporter": "python",
   "pygments_lexer": "ipython3",
   "version": "3.6.4"
  }
 },
 "nbformat": 4,
 "nbformat_minor": 2
}
