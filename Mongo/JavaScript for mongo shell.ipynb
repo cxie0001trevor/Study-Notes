{
 "cells": [
  {
   "cell_type": "markdown",
   "metadata": {},
   "source": [
    "Differences Between Interactive and Scripted mongo\n",
    "---\n",
    "\n",
    "#### Source: [write-scripts-for-the-mongo-shell](https://docs.mongodb.com/manual/tutorial/write-scripts-for-the-mongo-shell/)\n",
    "\n",
    "---"
   ]
  },
  {
   "cell_type": "markdown",
   "metadata": {},
   "source": [
    "| Shell Helpers | JavaScript Equivalents |\n",
    "| :--: | :--: |\n",
    "|show dbs, show databases|db.adminCommand('listDatabases')|\n",
    "|use db_name| db = db.getSiblingDB('db_name')|\n",
    "|show collections|db.getCollectionNames()|\n",
    "|show users|db.getUsers()|\n",
    "|show roles|db.getRoles({showBuiltinRoles: true})|\n",
    "|show log logname|db.adminCommand({ 'getLog' : 'logname' })|\n",
    "|show logs|db.adminCommand({ 'getLog' : '\\*' })|\n",
    "|it|cursor = db.collection.find();if(cursor.hasNext()){cursor.next();}|\n",
    "\n",
    "Considering the following:\n",
    "1. Assign the database reference to a variable other than `db`\n",
    "2. [Write method acknowledgements](https://docs.mongodb.com/manual/release-notes/2.6-compatibility/#write-methods-incompatibility)\n",
    "3. Any shell helper can not be used in the JavaScript file."
   ]
  },
  {
   "cell_type": "code",
   "execution_count": null,
   "metadata": {},
   "outputs": [],
   "source": []
  }
 ],
 "metadata": {
  "kernelspec": {
   "display_name": "Python 3",
   "language": "python",
   "name": "python3"
  },
  "language_info": {
   "codemirror_mode": {
    "name": "ipython",
    "version": 3
   },
   "file_extension": ".py",
   "mimetype": "text/x-python",
   "name": "python",
   "nbconvert_exporter": "python",
   "pygments_lexer": "ipython3",
   "version": "3.6.4"
  }
 },
 "nbformat": 4,
 "nbformat_minor": 2
}
