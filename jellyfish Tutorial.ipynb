{
 "cells": [
  {
   "cell_type": "markdown",
   "metadata": {},
   "source": [
    "```shell\n",
    "Create: 05 May 2018\n",
    "```\n",
    "\n",
    "---"
   ]
  },
  {
   "cell_type": "markdown",
   "metadata": {},
   "source": [
    "## Fuzzy String Matching\n",
    "[Source: Fuzzy String Matching in Python](https://marcobonzanini.com/2015/02/25/fuzzy-string-matching-in-python/)  \n",
    "\n",
    "**Fuzzy String Matching**, also called **Approximate String Matching**, is the process of finding strings that *approximatively* match a given pattern.  \n",
    "\n",
    "The **closeness** of a match is often measured in terms of **edit distance**, which is the number of primitive operations necessary to convert the string into an exact match.\n",
    "\n",
    "Primitive operations are:\n",
    "1. insertion\n",
    "2. deletion\n",
    "3. substitution\n",
    "\n",
    "**Fuzzy String Matching** have different practical applications:\n",
    "* **Spell-checking**\n",
    "* text **re-use detection** -  plagiarism detection \n",
    "* **spam filtering**\n",
    "* matching DNA sequences - in **bioinformatics domain**"
   ]
  },
  {
   "cell_type": "markdown",
   "metadata": {},
   "source": [
    "Q:  \n",
    "python-levenshtein?\n",
    "ssdeep"
   ]
  },
  {
   "cell_type": "markdown",
   "metadata": {},
   "source": [
    "## jellyfish\n",
    "jellyfish is a library of functions for approximate and phonetic matching of strings."
   ]
  },
  {
   "cell_type": "code",
   "execution_count": 1,
   "metadata": {},
   "outputs": [],
   "source": [
    "from jellyfish import metaphone as mt"
   ]
  },
  {
   "cell_type": "code",
   "execution_count": 4,
   "metadata": {},
   "outputs": [
    {
     "data": {
      "text/plain": [
       "True"
      ]
     },
     "execution_count": 4,
     "metadata": {},
     "output_type": "execute_result"
    }
   ],
   "source": []
  },
  {
   "cell_type": "code",
   "execution_count": null,
   "metadata": {},
   "outputs": [],
   "source": []
  }
 ],
 "metadata": {
  "kernelspec": {
   "display_name": "Python 3",
   "language": "python",
   "name": "python3"
  },
  "language_info": {
   "codemirror_mode": {
    "name": "ipython",
    "version": 3
   },
   "file_extension": ".py",
   "mimetype": "text/x-python",
   "name": "python",
   "nbconvert_exporter": "python",
   "pygments_lexer": "ipython3",
   "version": "3.6.4"
  }
 },
 "nbformat": 4,
 "nbformat_minor": 2
}
